{
  "nbformat": 4,
  "nbformat_minor": 0,
  "metadata": {
    "colab": {
      "name": "ml_asg5.ipynb",
      "provenance": [],
      "collapsed_sections": [],
      "authorship_tag": "ABX9TyM+7QWO8MypnR48jFbs5TPn",
      "include_colab_link": true
    },
    "kernelspec": {
      "name": "python3",
      "display_name": "Python 3"
    },
    "language_info": {
      "name": "python"
    }
  },
  "cells": [
    {
      "cell_type": "markdown",
      "metadata": {
        "id": "view-in-github",
        "colab_type": "text"
      },
      "source": [
        "<a href=\"https://colab.research.google.com/github/shivangtripathi/ml_lab/blob/main/ml_asg5.ipynb\" target=\"_parent\"><img src=\"https://colab.research.google.com/assets/colab-badge.svg\" alt=\"Open In Colab\"/></a>"
      ]
    },
    {
      "cell_type": "markdown",
      "metadata": {
        "id": "BQd4uEvdmYtO"
      },
      "source": [
        "## Quesetion 1"
      ]
    },
    {
      "cell_type": "code",
      "metadata": {
        "id": "YvV-G05G3K9u"
      },
      "source": [
        "import numpy as np\n",
        "import pandas as pd\n",
        "import seaborn as sns\n",
        "import matplotlib.pyplot as plt\n",
        "\n",
        "\n"
      ],
      "execution_count": 1,
      "outputs": []
    },
    {
      "cell_type": "code",
      "metadata": {
        "colab": {
          "base_uri": "https://localhost:8080/",
          "height": 709
        },
        "id": "KAB2GXiR5HLQ",
        "outputId": "ad3800f0-5c79-4ef1-8fec-0432a5641c67"
      },
      "source": [
        "df = pd.read_csv('./dataset.csv')\n",
        "#checking missing values in dataframe\n",
        "import missingno as ms\n",
        "ms.bar(df)"
      ],
      "execution_count": null,
      "outputs": [
        {
          "output_type": "execute_result",
          "data": {
            "text/plain": [
              "<matplotlib.axes._subplots.AxesSubplot at 0x7f1be0144d50>"
            ]
          },
          "metadata": {},
          "execution_count": 4
        },
        {
          "output_type": "display_data",
          "data": {
            "image/png": "[encoded data removed]",
            "text/plain": [
              "<Figure size 1800x720 with 3 Axes>"
            ]
          },
          "metadata": {
            "needs_background": "light"
          }
        }
      ]
    },
    {
      "cell_type": "code",
      "metadata": {
        "id": "T1f40Si15KZg"
      },
      "source": [
        "## as all the bars are completed to 10 units so there is no missing values in the dataset\n"
      ],
      "execution_count": null,
      "outputs": []
    },
    {
      "cell_type": "code",
      "metadata": {
        "colab": {
          "base_uri": "https://localhost:8080/",
          "height": 286
        },
        "id": "5RSqFkS15fd2",
        "outputId": "42d8d2dd-7e60-485d-b840-96282d2bdbe0"
      },
      "source": [
        "#checking redudancy\n",
        "sns.heatmap(df.iloc[:,0:2].corr())"
      ],
      "execution_count": null,
      "outputs": [
        {
          "output_type": "execute_result",
          "data": {
            "text/plain": [
              "<matplotlib.axes._subplots.AxesSubplot at 0x7f1bd5c4c810>"
            ]
          },
          "metadata": {},
          "execution_count": 12
        },
        {
          "output_type": "display_data",
          "data": {
            "image/png": "[encoded data removed]",
            "text/plain": [
              "<Figure size 432x288 with 2 Axes>"
            ]
          },
          "metadata": {
            "needs_background": "light"
          }
        }
      ]
    },
    {
      "cell_type": "code",
      "metadata": {
        "id": "KQ5hOktl5nWm"
      },
      "source": [
        "#Splitting features\n",
        "\n",
        "X = df.iloc[:,0:1]\n",
        "Y = df.iloc[:,1]\n",
        "\n",
        "Y = np.array(Y)\n",
        "Y = Y.reshape(-1,1)\n",
        "\n",
        "from sklearn.preprocessing import StandardScaler\n",
        "scaler = StandardScaler()\n",
        "X_Scaled = scaler.fit_transform(X)\n",
        "X_Scaled = np.insert(X_Scaled,0,values=1,axis=1)\n",
        "\n"
      ],
      "execution_count": null,
      "outputs": []
    },
    {
      "cell_type": "code",
      "metadata": {
        "id": "LcJ6_HXx7jiJ"
      },
      "source": [
        "#splitting dataset\n",
        "from sklearn.model_selection import train_test_split\n",
        "X_train,X_test,Y_train,Y_test = train_test_split(X_Scaled,Y,test_size = 0.3,random_state=12)\n",
        "\n"
      ],
      "execution_count": null,
      "outputs": []
    },
    {
      "cell_type": "code",
      "metadata": {
        "id": "2L3DvV4I7pVa"
      },
      "source": [
        "#finding regression\n",
        "A = X_train.T.dot(X_train)\n",
        "B = np.linalg.inv(A)\n",
        "C = B.dot(X_train.T)\n",
        "beta = C.dot(Y_train)\n",
        "\n",
        "\n"
      ],
      "execution_count": null,
      "outputs": []
    },
    {
      "cell_type": "code",
      "metadata": {
        "colab": {
          "base_uri": "https://localhost:8080/"
        },
        "id": "IQCqIB2wB93n",
        "outputId": "4f76df19-3c1e-41cc-c29b-89dab9a121e5"
      },
      "source": [
        "beta"
      ],
      "execution_count": null,
      "outputs": [
        {
          "output_type": "execute_result",
          "data": {
            "text/plain": [
              "array([[1676.99821574],\n",
              "       [ 319.4570948 ]])"
            ]
          },
          "metadata": {},
          "execution_count": 75
        }
      ]
    },
    {
      "cell_type": "code",
      "metadata": {
        "id": "gYi7J1goDC3w"
      },
      "source": [
        "y_predict = X_test.dot(beta)"
      ],
      "execution_count": null,
      "outputs": []
    },
    {
      "cell_type": "code",
      "metadata": {
        "id": "wyFBAdYF8sUP"
      },
      "source": [
        "#predicting on given value\n",
        "X_Scaled = scaler.fit_transform(X)\n",
        "X_Scaled = np.insert(X_Scaled,0,values=1,axis=1)\n",
        "y_predict = [3000]*beta"
      ],
      "execution_count": null,
      "outputs": []
    },
    {
      "cell_type": "code",
      "metadata": {
        "colab": {
          "base_uri": "https://localhost:8080/"
        },
        "id": "yATmOt9y8ybu",
        "outputId": "ec390354-1da8-411d-f7a1-cc4d454d32e1"
      },
      "source": [
        "y_predict"
      ],
      "execution_count": null,
      "outputs": [
        {
          "output_type": "execute_result",
          "data": {
            "text/plain": [
              "array([[17878.50221988]])"
            ]
          },
          "metadata": {},
          "execution_count": 69
        }
      ]
    },
    {
      "cell_type": "markdown",
      "metadata": {
        "id": "0IxBAxIMmRa-"
      },
      "source": [
        "## Question 2"
      ]
    },
    {
      "cell_type": "code",
      "metadata": {
        "id": "pNJyU_zw_e1e",
        "colab": {
          "base_uri": "https://localhost:8080/",
          "height": 204
        },
        "outputId": "c9e2fde0-73eb-4fe1-e95d-22b59ec0b680"
      },
      "source": [
        "df2 = pd.read_csv(\"./Stock_Index_dataset.csv\")\n",
        "df2.head()"
      ],
      "execution_count": 4,
      "outputs": [
        {
          "output_type": "execute_result",
          "data": {
            "text/html": [
              "<div>\n",
              "<style scoped>\n",
              "    .dataframe tbody tr th:only-of-type {\n",
              "        vertical-align: middle;\n",
              "    }\n",
              "\n",
              "    .dataframe tbody tr th {\n",
              "        vertical-align: top;\n",
              "    }\n",
              "\n",
              "    .dataframe thead th {\n",
              "        text-align: right;\n",
              "    }\n",
              "</style>\n",
              "<table border=\"1\" class=\"dataframe\">\n",
              "  <thead>\n",
              "    <tr style=\"text-align: right;\">\n",
              "      <th></th>\n",
              "      <th>Year</th>\n",
              "      <th>Month</th>\n",
              "      <th>Interest_Rate</th>\n",
              "      <th>Unemployment_Rate</th>\n",
              "      <th>Stock_Index_Price</th>\n",
              "    </tr>\n",
              "  </thead>\n",
              "  <tbody>\n",
              "    <tr>\n",
              "      <th>0</th>\n",
              "      <td>2017</td>\n",
              "      <td>12</td>\n",
              "      <td>2.75</td>\n",
              "      <td>5.3</td>\n",
              "      <td>1464</td>\n",
              "    </tr>\n",
              "    <tr>\n",
              "      <th>1</th>\n",
              "      <td>2017</td>\n",
              "      <td>11</td>\n",
              "      <td>2.50</td>\n",
              "      <td>5.3</td>\n",
              "      <td>1394</td>\n",
              "    </tr>\n",
              "    <tr>\n",
              "      <th>2</th>\n",
              "      <td>2017</td>\n",
              "      <td>10</td>\n",
              "      <td>2.50</td>\n",
              "      <td>5.3</td>\n",
              "      <td>1357</td>\n",
              "    </tr>\n",
              "    <tr>\n",
              "      <th>3</th>\n",
              "      <td>2017</td>\n",
              "      <td>9</td>\n",
              "      <td>2.50</td>\n",
              "      <td>5.3</td>\n",
              "      <td>1293</td>\n",
              "    </tr>\n",
              "    <tr>\n",
              "      <th>4</th>\n",
              "      <td>2017</td>\n",
              "      <td>8</td>\n",
              "      <td>2.50</td>\n",
              "      <td>5.4</td>\n",
              "      <td>1256</td>\n",
              "    </tr>\n",
              "  </tbody>\n",
              "</table>\n",
              "</div>"
            ],
            "text/plain": [
              "   Year  Month  Interest_Rate   Unemployment_Rate  Stock_Index_Price\n",
              "0  2017     12           2.75                 5.3               1464\n",
              "1  2017     11           2.50                 5.3               1394\n",
              "2  2017     10           2.50                 5.3               1357\n",
              "3  2017      9           2.50                 5.3               1293\n",
              "4  2017      8           2.50                 5.4               1256"
            ]
          },
          "metadata": {},
          "execution_count": 4
        }
      ]
    },
    {
      "cell_type": "code",
      "metadata": {
        "colab": {
          "base_uri": "https://localhost:8080/",
          "height": 204
        },
        "id": "Iu3fAYB0m1ne",
        "outputId": "0cb22679-b6c7-442d-8e9e-dd91e0f4cde0"
      },
      "source": [
        "df2['date'] = (df2['Year'] - 1)*12 + df2['Month']\n",
        "df2.drop(['Year', 'Month'], inplace=True, axis=1)\n",
        "df2.head()"
      ],
      "execution_count": 6,
      "outputs": [
        {
          "output_type": "execute_result",
          "data": {
            "text/html": [
              "<div>\n",
              "<style scoped>\n",
              "    .dataframe tbody tr th:only-of-type {\n",
              "        vertical-align: middle;\n",
              "    }\n",
              "\n",
              "    .dataframe tbody tr th {\n",
              "        vertical-align: top;\n",
              "    }\n",
              "\n",
              "    .dataframe thead th {\n",
              "        text-align: right;\n",
              "    }\n",
              "</style>\n",
              "<table border=\"1\" class=\"dataframe\">\n",
              "  <thead>\n",
              "    <tr style=\"text-align: right;\">\n",
              "      <th></th>\n",
              "      <th>Interest_Rate</th>\n",
              "      <th>Unemployment_Rate</th>\n",
              "      <th>Stock_Index_Price</th>\n",
              "      <th>date</th>\n",
              "    </tr>\n",
              "  </thead>\n",
              "  <tbody>\n",
              "    <tr>\n",
              "      <th>0</th>\n",
              "      <td>2.75</td>\n",
              "      <td>5.3</td>\n",
              "      <td>1464</td>\n",
              "      <td>24204</td>\n",
              "    </tr>\n",
              "    <tr>\n",
              "      <th>1</th>\n",
              "      <td>2.50</td>\n",
              "      <td>5.3</td>\n",
              "      <td>1394</td>\n",
              "      <td>24203</td>\n",
              "    </tr>\n",
              "    <tr>\n",
              "      <th>2</th>\n",
              "      <td>2.50</td>\n",
              "      <td>5.3</td>\n",
              "      <td>1357</td>\n",
              "      <td>24202</td>\n",
              "    </tr>\n",
              "    <tr>\n",
              "      <th>3</th>\n",
              "      <td>2.50</td>\n",
              "      <td>5.3</td>\n",
              "      <td>1293</td>\n",
              "      <td>24201</td>\n",
              "    </tr>\n",
              "    <tr>\n",
              "      <th>4</th>\n",
              "      <td>2.50</td>\n",
              "      <td>5.4</td>\n",
              "      <td>1256</td>\n",
              "      <td>24200</td>\n",
              "    </tr>\n",
              "  </tbody>\n",
              "</table>\n",
              "</div>"
            ],
            "text/plain": [
              "   Interest_Rate   Unemployment_Rate  Stock_Index_Price   date\n",
              "0           2.75                 5.3               1464  24204\n",
              "1           2.50                 5.3               1394  24203\n",
              "2           2.50                 5.3               1357  24202\n",
              "3           2.50                 5.3               1293  24201\n",
              "4           2.50                 5.4               1256  24200"
            ]
          },
          "metadata": {},
          "execution_count": 6
        }
      ]
    },
    {
      "cell_type": "code",
      "metadata": {
        "colab": {
          "base_uri": "https://localhost:8080/",
          "height": 204
        },
        "id": "Oiq6yw2hm_Oz",
        "outputId": "088c3982-b504-4b70-b996-0169d09fb77b"
      },
      "source": [
        "X, y = df2.iloc[:,[0,1,3]], df2['Stock_Index_Price']\n",
        "X.head()"
      ],
      "execution_count": 8,
      "outputs": [
        {
          "output_type": "execute_result",
          "data": {
            "text/html": [
              "<div>\n",
              "<style scoped>\n",
              "    .dataframe tbody tr th:only-of-type {\n",
              "        vertical-align: middle;\n",
              "    }\n",
              "\n",
              "    .dataframe tbody tr th {\n",
              "        vertical-align: top;\n",
              "    }\n",
              "\n",
              "    .dataframe thead th {\n",
              "        text-align: right;\n",
              "    }\n",
              "</style>\n",
              "<table border=\"1\" class=\"dataframe\">\n",
              "  <thead>\n",
              "    <tr style=\"text-align: right;\">\n",
              "      <th></th>\n",
              "      <th>Interest_Rate</th>\n",
              "      <th>Unemployment_Rate</th>\n",
              "      <th>date</th>\n",
              "    </tr>\n",
              "  </thead>\n",
              "  <tbody>\n",
              "    <tr>\n",
              "      <th>0</th>\n",
              "      <td>2.75</td>\n",
              "      <td>5.3</td>\n",
              "      <td>24204</td>\n",
              "    </tr>\n",
              "    <tr>\n",
              "      <th>1</th>\n",
              "      <td>2.50</td>\n",
              "      <td>5.3</td>\n",
              "      <td>24203</td>\n",
              "    </tr>\n",
              "    <tr>\n",
              "      <th>2</th>\n",
              "      <td>2.50</td>\n",
              "      <td>5.3</td>\n",
              "      <td>24202</td>\n",
              "    </tr>\n",
              "    <tr>\n",
              "      <th>3</th>\n",
              "      <td>2.50</td>\n",
              "      <td>5.3</td>\n",
              "      <td>24201</td>\n",
              "    </tr>\n",
              "    <tr>\n",
              "      <th>4</th>\n",
              "      <td>2.50</td>\n",
              "      <td>5.4</td>\n",
              "      <td>24200</td>\n",
              "    </tr>\n",
              "  </tbody>\n",
              "</table>\n",
              "</div>"
            ],
            "text/plain": [
              "   Interest_Rate   Unemployment_Rate   date\n",
              "0           2.75                 5.3  24204\n",
              "1           2.50                 5.3  24203\n",
              "2           2.50                 5.3  24202\n",
              "3           2.50                 5.3  24201\n",
              "4           2.50                 5.4  24200"
            ]
          },
          "metadata": {},
          "execution_count": 8
        }
      ]
    },
    {
      "cell_type": "code",
      "metadata": {
        "id": "8FxZ7CohnGlP"
      },
      "source": [
        "X = np.array(X)"
      ],
      "execution_count": 9,
      "outputs": []
    },
    {
      "cell_type": "code",
      "metadata": {
        "id": "Oq0EY8m5nLTx"
      },
      "source": [
        "X_np = np.insert(X, 0, 1, axis=1)"
      ],
      "execution_count": 10,
      "outputs": []
    },
    {
      "cell_type": "code",
      "metadata": {
        "colab": {
          "base_uri": "https://localhost:8080/"
        },
        "id": "tGtZkmxRnxMF",
        "outputId": "69a2cdba-c2d0-4f81-ba97-48cd7374af30"
      },
      "source": [
        "X_np"
      ],
      "execution_count": 11,
      "outputs": [
        {
          "output_type": "execute_result",
          "data": {
            "text/plain": [
              "array([[1.0000e+00, 2.7500e+00, 5.3000e+00, 2.4204e+04],\n",
              "       [1.0000e+00, 2.5000e+00, 5.3000e+00, 2.4203e+04],\n",
              "       [1.0000e+00, 2.5000e+00, 5.3000e+00, 2.4202e+04],\n",
              "       [1.0000e+00, 2.5000e+00, 5.3000e+00, 2.4201e+04],\n",
              "       [1.0000e+00, 2.5000e+00, 5.4000e+00, 2.4200e+04],\n",
              "       [1.0000e+00, 2.5000e+00, 5.6000e+00, 2.4199e+04],\n",
              "       [1.0000e+00, 2.5000e+00, 5.5000e+00, 2.4198e+04],\n",
              "       [1.0000e+00, 2.2500e+00, 5.5000e+00, 2.4197e+04],\n",
              "       [1.0000e+00, 2.2500e+00, 5.5000e+00, 2.4196e+04],\n",
              "       [1.0000e+00, 2.2500e+00, 5.6000e+00, 2.4195e+04],\n",
              "       [1.0000e+00, 2.0000e+00, 5.7000e+00, 2.4194e+04],\n",
              "       [1.0000e+00, 2.0000e+00, 5.9000e+00, 2.4193e+04],\n",
              "       [1.0000e+00, 2.0000e+00, 6.0000e+00, 2.4192e+04],\n",
              "       [1.0000e+00, 1.7500e+00, 5.9000e+00, 2.4191e+04],\n",
              "       [1.0000e+00, 1.7500e+00, 5.8000e+00, 2.4190e+04],\n",
              "       [1.0000e+00, 1.7500e+00, 6.1000e+00, 2.4189e+04],\n",
              "       [1.0000e+00, 1.7500e+00, 6.2000e+00, 2.4188e+04],\n",
              "       [1.0000e+00, 1.7500e+00, 6.1000e+00, 2.4187e+04],\n",
              "       [1.0000e+00, 1.7500e+00, 6.1000e+00, 2.4186e+04],\n",
              "       [1.0000e+00, 1.7500e+00, 6.1000e+00, 2.4185e+04],\n",
              "       [1.0000e+00, 1.7500e+00, 5.9000e+00, 2.4184e+04],\n",
              "       [1.0000e+00, 1.7500e+00, 6.2000e+00, 2.4183e+04],\n",
              "       [1.0000e+00, 1.7500e+00, 6.2000e+00, 2.4182e+04],\n",
              "       [1.0000e+00, 1.7500e+00, 6.1000e+00, 2.4181e+04]])"
            ]
          },
          "metadata": {},
          "execution_count": 11
        }
      ]
    },
    {
      "cell_type": "code",
      "metadata": {
        "colab": {
          "base_uri": "https://localhost:8080/"
        },
        "id": "jI4T7c3enzLi",
        "outputId": "05dfe4c3-b9b8-4ae7-a91c-42cacde0023a"
      },
      "source": [
        "L = X_np.T.dot(X_np)\n",
        "print(L)\n",
        "invL = np.linalg.inv(L)\n",
        "beta = invL.dot(X_np.T).dot(y)"
      ],
      "execution_count": 13,
      "outputs": [
        {
          "output_type": "stream",
          "name": "stdout",
          "text": [
            "[[2.40000000e+01 4.97500000e+01 1.38600000e+02 5.80620000e+05]\n",
            " [4.97500000e+01 1.05937500e+02 2.84850000e+02 1.20363000e+06]\n",
            " [1.38600000e+02 2.84850000e+02 8.02920000e+02 3.35303030e+06]\n",
            " [5.80620000e+05 1.20363000e+06 3.35303030e+06 1.40466505e+10]]\n"
          ]
        }
      ]
    },
    {
      "cell_type": "code",
      "metadata": {
        "colab": {
          "base_uri": "https://localhost:8080/"
        },
        "id": "vmRb7ZRUn3z7",
        "outputId": "3ef95313-eb8a-44c2-dc5e-308e8726bda0"
      },
      "source": [
        "beta"
      ],
      "execution_count": 14,
      "outputs": [
        {
          "output_type": "execute_result",
          "data": {
            "text/plain": [
              "array([-6.73495867e+05,  7.46843500e+01,  4.27147149e+01,  2.78666718e+01])"
            ]
          },
          "metadata": {},
          "execution_count": 14
        }
      ]
    },
    {
      "cell_type": "code",
      "metadata": {
        "id": "tJWn4xKpn7Ol"
      },
      "source": [
        "x_test = [1, 1.5, 5.8, 2021*12]\n",
        "x_test = np.array(x_test)"
      ],
      "execution_count": 15,
      "outputs": []
    },
    {
      "cell_type": "code",
      "metadata": {
        "colab": {
          "base_uri": "https://localhost:8080/"
        },
        "id": "kAZ_Vgj8n-SP",
        "outputId": "704633c7-a773-4cc3-c3d3-6fc44e6b7e79"
      },
      "source": [
        "x_test.dot(beta.T)"
      ],
      "execution_count": 16,
      "outputs": [
        {
          "output_type": "execute_result",
          "data": {
            "text/plain": [
              "2686.43026952417"
            ]
          },
          "metadata": {},
          "execution_count": 16
        }
      ]
    },
    {
      "cell_type": "code",
      "metadata": {
        "id": "7iuH1I3Wn_7W"
      },
      "source": [
        ""
      ],
      "execution_count": null,
      "outputs": []
    }
  ]
}